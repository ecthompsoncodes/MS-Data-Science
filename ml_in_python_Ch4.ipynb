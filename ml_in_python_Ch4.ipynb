{
 "cells": [
  {
   "cell_type": "raw",
   "metadata": {},
   "source": []
  },
  {
   "cell_type": "raw",
   "metadata": {},
   "source": []
  },
  {
   "cell_type": "markdown",
   "metadata": {},
   "source": [
    "Chapter 4: Logistic regression, LDA, QDA and KNN"
   ]
  },
  {
   "cell_type": "code",
   "execution_count": 1,
   "metadata": {},
   "outputs": [],
   "source": [
    "import numpy as np\n",
    "import pandas as pd\n",
    "from matplotlib.pyplot import subplots\n",
    "import statsmodels.api as sm\n",
    "from ISLP import load_data\n",
    "from ISLP.models import (ModelSpec as MS,\n",
    "                         summarize)"
   ]
  },
  {
   "cell_type": "code",
   "execution_count": 2,
   "metadata": {},
   "outputs": [],
   "source": [
    "from ISLP import confusion_table\n",
    "from ISLP.models import contrast\n",
    "from sklearn.discriminant_analysis import \\\n",
    "     (LinearDiscriminantAnalysis as LDA,\n",
    "      QuadraticDiscriminantAnalysis as QDA)\n",
    "from sklearn.naive_bayes import GaussianNB\n",
    "from sklearn.neighbors import KNeighborsClassifier\n",
    "from sklearn.preprocessing import StandardScaler\n",
    "from sklearn.model_selection import train_test_split\n",
    "from sklearn.linear_model import LogisticRegression"
   ]
  },
  {
   "cell_type": "code",
   "execution_count": 3,
   "metadata": {},
   "outputs": [
    {
     "data": {
      "text/html": "<div>\n<style scoped>\n    .dataframe tbody tr th:only-of-type {\n        vertical-align: middle;\n    }\n\n    .dataframe tbody tr th {\n        vertical-align: top;\n    }\n\n    .dataframe thead th {\n        text-align: right;\n    }\n</style>\n<table border=\"1\" class=\"dataframe\">\n  <thead>\n    <tr style=\"text-align: right;\">\n      <th></th>\n      <th>Year</th>\n      <th>Lag1</th>\n      <th>Lag2</th>\n      <th>Lag3</th>\n      <th>Lag4</th>\n      <th>Lag5</th>\n      <th>Volume</th>\n      <th>Today</th>\n      <th>Direction</th>\n    </tr>\n  </thead>\n  <tbody>\n    <tr>\n      <th>0</th>\n      <td>2001</td>\n      <td>0.381</td>\n      <td>-0.192</td>\n      <td>-2.624</td>\n      <td>-1.055</td>\n      <td>5.010</td>\n      <td>1.19130</td>\n      <td>0.959</td>\n      <td>Up</td>\n    </tr>\n    <tr>\n      <th>1</th>\n      <td>2001</td>\n      <td>0.959</td>\n      <td>0.381</td>\n      <td>-0.192</td>\n      <td>-2.624</td>\n      <td>-1.055</td>\n      <td>1.29650</td>\n      <td>1.032</td>\n      <td>Up</td>\n    </tr>\n    <tr>\n      <th>2</th>\n      <td>2001</td>\n      <td>1.032</td>\n      <td>0.959</td>\n      <td>0.381</td>\n      <td>-0.192</td>\n      <td>-2.624</td>\n      <td>1.41120</td>\n      <td>-0.623</td>\n      <td>Down</td>\n    </tr>\n    <tr>\n      <th>3</th>\n      <td>2001</td>\n      <td>-0.623</td>\n      <td>1.032</td>\n      <td>0.959</td>\n      <td>0.381</td>\n      <td>-0.192</td>\n      <td>1.27600</td>\n      <td>0.614</td>\n      <td>Up</td>\n    </tr>\n    <tr>\n      <th>4</th>\n      <td>2001</td>\n      <td>0.614</td>\n      <td>-0.623</td>\n      <td>1.032</td>\n      <td>0.959</td>\n      <td>0.381</td>\n      <td>1.20570</td>\n      <td>0.213</td>\n      <td>Up</td>\n    </tr>\n    <tr>\n      <th>...</th>\n      <td>...</td>\n      <td>...</td>\n      <td>...</td>\n      <td>...</td>\n      <td>...</td>\n      <td>...</td>\n      <td>...</td>\n      <td>...</td>\n      <td>...</td>\n    </tr>\n    <tr>\n      <th>1245</th>\n      <td>2005</td>\n      <td>0.422</td>\n      <td>0.252</td>\n      <td>-0.024</td>\n      <td>-0.584</td>\n      <td>-0.285</td>\n      <td>1.88850</td>\n      <td>0.043</td>\n      <td>Up</td>\n    </tr>\n    <tr>\n      <th>1246</th>\n      <td>2005</td>\n      <td>0.043</td>\n      <td>0.422</td>\n      <td>0.252</td>\n      <td>-0.024</td>\n      <td>-0.584</td>\n      <td>1.28581</td>\n      <td>-0.955</td>\n      <td>Down</td>\n    </tr>\n    <tr>\n      <th>1247</th>\n      <td>2005</td>\n      <td>-0.955</td>\n      <td>0.043</td>\n      <td>0.422</td>\n      <td>0.252</td>\n      <td>-0.024</td>\n      <td>1.54047</td>\n      <td>0.130</td>\n      <td>Up</td>\n    </tr>\n    <tr>\n      <th>1248</th>\n      <td>2005</td>\n      <td>0.130</td>\n      <td>-0.955</td>\n      <td>0.043</td>\n      <td>0.422</td>\n      <td>0.252</td>\n      <td>1.42236</td>\n      <td>-0.298</td>\n      <td>Down</td>\n    </tr>\n    <tr>\n      <th>1249</th>\n      <td>2005</td>\n      <td>-0.298</td>\n      <td>0.130</td>\n      <td>-0.955</td>\n      <td>0.043</td>\n      <td>0.422</td>\n      <td>1.38254</td>\n      <td>-0.489</td>\n      <td>Down</td>\n    </tr>\n  </tbody>\n</table>\n<p>1250 rows × 9 columns</p>\n</div>",
      "text/plain": "      Year   Lag1   Lag2   Lag3   Lag4   Lag5   Volume  Today Direction\n0     2001  0.381 -0.192 -2.624 -1.055  5.010  1.19130  0.959        Up\n1     2001  0.959  0.381 -0.192 -2.624 -1.055  1.29650  1.032        Up\n2     2001  1.032  0.959  0.381 -0.192 -2.624  1.41120 -0.623      Down\n3     2001 -0.623  1.032  0.959  0.381 -0.192  1.27600  0.614        Up\n4     2001  0.614 -0.623  1.032  0.959  0.381  1.20570  0.213        Up\n...    ...    ...    ...    ...    ...    ...      ...    ...       ...\n1245  2005  0.422  0.252 -0.024 -0.584 -0.285  1.88850  0.043        Up\n1246  2005  0.043  0.422  0.252 -0.024 -0.584  1.28581 -0.955      Down\n1247  2005 -0.955  0.043  0.422  0.252 -0.024  1.54047  0.130        Up\n1248  2005  0.130 -0.955  0.043  0.422  0.252  1.42236 -0.298      Down\n1249  2005 -0.298  0.130 -0.955  0.043  0.422  1.38254 -0.489      Down\n\n[1250 rows x 9 columns]"
     },
     "execution_count": 3,
     "metadata": {},
     "output_type": "execute_result"
    }
   ],
   "source": [
    "Smarket = load_data('Smarket')\n",
    "Smarket"
   ]
  },
  {
   "cell_type": "code",
   "execution_count": 4,
   "metadata": {},
   "outputs": [
    {
     "data": {
      "text/plain": "Index(['Year', 'Lag1', 'Lag2', 'Lag3', 'Lag4', 'Lag5', 'Volume', 'Today',\n       'Direction'],\n      dtype='object')"
     },
     "execution_count": 4,
     "metadata": {},
     "output_type": "execute_result"
    }
   ],
   "source": [
    "Smarket.columns"
   ]
  },
  {
   "cell_type": "code",
   "execution_count": 5,
   "metadata": {},
   "outputs": [
    {
     "data": {
      "text/html": "<div>\n<style scoped>\n    .dataframe tbody tr th:only-of-type {\n        vertical-align: middle;\n    }\n\n    .dataframe tbody tr th {\n        vertical-align: top;\n    }\n\n    .dataframe thead th {\n        text-align: right;\n    }\n</style>\n<table border=\"1\" class=\"dataframe\">\n  <thead>\n    <tr style=\"text-align: right;\">\n      <th></th>\n      <th>Year</th>\n      <th>Lag1</th>\n      <th>Lag2</th>\n      <th>Lag3</th>\n      <th>Lag4</th>\n      <th>Lag5</th>\n      <th>Volume</th>\n      <th>Today</th>\n    </tr>\n  </thead>\n  <tbody>\n    <tr>\n      <th>Year</th>\n      <td>1.000000</td>\n      <td>0.029700</td>\n      <td>0.030596</td>\n      <td>0.033195</td>\n      <td>0.035689</td>\n      <td>0.029788</td>\n      <td>0.539006</td>\n      <td>0.030095</td>\n    </tr>\n    <tr>\n      <th>Lag1</th>\n      <td>0.029700</td>\n      <td>1.000000</td>\n      <td>-0.026294</td>\n      <td>-0.010803</td>\n      <td>-0.002986</td>\n      <td>-0.005675</td>\n      <td>0.040910</td>\n      <td>-0.026155</td>\n    </tr>\n    <tr>\n      <th>Lag2</th>\n      <td>0.030596</td>\n      <td>-0.026294</td>\n      <td>1.000000</td>\n      <td>-0.025897</td>\n      <td>-0.010854</td>\n      <td>-0.003558</td>\n      <td>-0.043383</td>\n      <td>-0.010250</td>\n    </tr>\n    <tr>\n      <th>Lag3</th>\n      <td>0.033195</td>\n      <td>-0.010803</td>\n      <td>-0.025897</td>\n      <td>1.000000</td>\n      <td>-0.024051</td>\n      <td>-0.018808</td>\n      <td>-0.041824</td>\n      <td>-0.002448</td>\n    </tr>\n    <tr>\n      <th>Lag4</th>\n      <td>0.035689</td>\n      <td>-0.002986</td>\n      <td>-0.010854</td>\n      <td>-0.024051</td>\n      <td>1.000000</td>\n      <td>-0.027084</td>\n      <td>-0.048414</td>\n      <td>-0.006900</td>\n    </tr>\n    <tr>\n      <th>Lag5</th>\n      <td>0.029788</td>\n      <td>-0.005675</td>\n      <td>-0.003558</td>\n      <td>-0.018808</td>\n      <td>-0.027084</td>\n      <td>1.000000</td>\n      <td>-0.022002</td>\n      <td>-0.034860</td>\n    </tr>\n    <tr>\n      <th>Volume</th>\n      <td>0.539006</td>\n      <td>0.040910</td>\n      <td>-0.043383</td>\n      <td>-0.041824</td>\n      <td>-0.048414</td>\n      <td>-0.022002</td>\n      <td>1.000000</td>\n      <td>0.014592</td>\n    </tr>\n    <tr>\n      <th>Today</th>\n      <td>0.030095</td>\n      <td>-0.026155</td>\n      <td>-0.010250</td>\n      <td>-0.002448</td>\n      <td>-0.006900</td>\n      <td>-0.034860</td>\n      <td>0.014592</td>\n      <td>1.000000</td>\n    </tr>\n  </tbody>\n</table>\n</div>",
      "text/plain": "            Year      Lag1      Lag2      Lag3      Lag4      Lag5    Volume  \\\nYear    1.000000  0.029700  0.030596  0.033195  0.035689  0.029788  0.539006   \nLag1    0.029700  1.000000 -0.026294 -0.010803 -0.002986 -0.005675  0.040910   \nLag2    0.030596 -0.026294  1.000000 -0.025897 -0.010854 -0.003558 -0.043383   \nLag3    0.033195 -0.010803 -0.025897  1.000000 -0.024051 -0.018808 -0.041824   \nLag4    0.035689 -0.002986 -0.010854 -0.024051  1.000000 -0.027084 -0.048414   \nLag5    0.029788 -0.005675 -0.003558 -0.018808 -0.027084  1.000000 -0.022002   \nVolume  0.539006  0.040910 -0.043383 -0.041824 -0.048414 -0.022002  1.000000   \nToday   0.030095 -0.026155 -0.010250 -0.002448 -0.006900 -0.034860  0.014592   \n\n           Today  \nYear    0.030095  \nLag1   -0.026155  \nLag2   -0.010250  \nLag3   -0.002448  \nLag4   -0.006900  \nLag5   -0.034860  \nVolume  0.014592  \nToday   1.000000  "
     },
     "execution_count": 5,
     "metadata": {},
     "output_type": "execute_result"
    }
   ],
   "source": [
    "# correlation matrix\n",
    "Smarket.corr(numeric_only = True) # doesn't give value for direction bc qualitative"
   ]
  },
  {
   "cell_type": "code",
   "execution_count": 6,
   "metadata": {},
   "outputs": [
    {
     "data": {
      "text/plain": "<Axes: >"
     },
     "execution_count": 6,
     "metadata": {},
     "output_type": "execute_result"
    },
    {
     "data": {
      "image/png": "[encoded data removed]",
      "text/plain": "<Figure size 640x480 with 1 Axes>"
     },
     "metadata": {},
     "output_type": "display_data"
    }
   ],
   "source": [
    "Smarket.plot(y='Volume')"
   ]
  },
  {
   "cell_type": "markdown",
   "metadata": {},
   "source": [
    "Logistic Regression"
   ]
  },
  {
   "cell_type": "code",
   "execution_count": 7,
   "metadata": {},
   "outputs": [
    {
     "data": {
      "text/html": "<div>\n<style scoped>\n    .dataframe tbody tr th:only-of-type {\n        vertical-align: middle;\n    }\n\n    .dataframe tbody tr th {\n        vertical-align: top;\n    }\n\n    .dataframe thead th {\n        text-align: right;\n    }\n</style>\n<table border=\"1\" class=\"dataframe\">\n  <thead>\n    <tr style=\"text-align: right;\">\n      <th></th>\n      <th>coef</th>\n      <th>std err</th>\n      <th>z</th>\n      <th>P&gt;|z|</th>\n    </tr>\n  </thead>\n  <tbody>\n    <tr>\n      <th>intercept</th>\n      <td>-0.1260</td>\n      <td>0.241</td>\n      <td>-0.523</td>\n      <td>0.601</td>\n    </tr>\n    <tr>\n      <th>Lag1</th>\n      <td>-0.0731</td>\n      <td>0.050</td>\n      <td>-1.457</td>\n      <td>0.145</td>\n    </tr>\n    <tr>\n      <th>Lag2</th>\n      <td>-0.0423</td>\n      <td>0.050</td>\n      <td>-0.845</td>\n      <td>0.398</td>\n    </tr>\n    <tr>\n      <th>Lag3</th>\n      <td>0.0111</td>\n      <td>0.050</td>\n      <td>0.222</td>\n      <td>0.824</td>\n    </tr>\n    <tr>\n      <th>Lag4</th>\n      <td>0.0094</td>\n      <td>0.050</td>\n      <td>0.187</td>\n      <td>0.851</td>\n    </tr>\n    <tr>\n      <th>Lag5</th>\n      <td>0.0103</td>\n      <td>0.050</td>\n      <td>0.208</td>\n      <td>0.835</td>\n    </tr>\n    <tr>\n      <th>Volume</th>\n      <td>0.1354</td>\n      <td>0.158</td>\n      <td>0.855</td>\n      <td>0.392</td>\n    </tr>\n  </tbody>\n</table>\n</div>",
      "text/plain": "             coef  std err      z  P>|z|\nintercept -0.1260    0.241 -0.523  0.601\nLag1      -0.0731    0.050 -1.457  0.145\nLag2      -0.0423    0.050 -0.845  0.398\nLag3       0.0111    0.050  0.222  0.824\nLag4       0.0094    0.050  0.187  0.851\nLag5       0.0103    0.050  0.208  0.835\nVolume     0.1354    0.158  0.855  0.392"
     },
     "execution_count": 7,
     "metadata": {},
     "output_type": "execute_result"
    }
   ],
   "source": [
    "# predict direction us lag1 through lag5 and volume\n",
    "allvars = Smarket.columns.drop(['Today', 'Direction', 'Year'])\n",
    "design = MS(allvars)\n",
    "X = design.fit_transform(Smarket)\n",
    "y = Smarket.Direction == 'Up'\n",
    "glm = sm.GLM(y, X, family = sm.families.Binomial())\n",
    "results = glm.fit()\n",
    "summarize(results)"
   ]
  },
  {
   "cell_type": "code",
   "execution_count": 8,
   "metadata": {},
   "outputs": [
    {
     "data": {
      "text/plain": "intercept   -0.126000\nLag1        -0.073074\nLag2        -0.042301\nLag3         0.011085\nLag4         0.009359\nLag5         0.010313\nVolume       0.135441\ndtype: float64"
     },
     "execution_count": 8,
     "metadata": {},
     "output_type": "execute_result"
    }
   ],
   "source": [
    "results.params # access coefficients"
   ]
  },
  {
   "cell_type": "code",
   "execution_count": 9,
   "metadata": {},
   "outputs": [
    {
     "data": {
      "text/plain": "intercept    0.600700\nLag1         0.145232\nLag2         0.398352\nLag3         0.824334\nLag4         0.851445\nLag5         0.834998\nVolume       0.392404\ndtype: float64"
     },
     "execution_count": 9,
     "metadata": {},
     "output_type": "execute_result"
    }
   ],
   "source": [
    "results.pvalues # p values of coefficients"
   ]
  },
  {
   "cell_type": "code",
   "execution_count": 10,
   "metadata": {},
   "outputs": [
    {
     "data": {
      "text/plain": "array([0.50708413, 0.48146788, 0.48113883, 0.51522236, 0.51078116,\n       0.50695646, 0.49265087, 0.50922916, 0.51761353, 0.48883778])"
     },
     "execution_count": 10,
     "metadata": {},
     "output_type": "execute_result"
    }
   ],
   "source": [
    "probs = results.predict()\n",
    "probs[:10]"
   ]
  },
  {
   "cell_type": "code",
   "execution_count": 11,
   "metadata": {},
   "outputs": [],
   "source": [
    "# make prediction or whether market will go up or down by converting predicted probs into class labels\n",
    "labels = np.array(['Down']*1250)\n",
    "labels[probs>0.5] = \"Up\""
   ]
  },
  {
   "cell_type": "code",
   "execution_count": 12,
   "metadata": {},
   "outputs": [
    {
     "data": {
      "text/html": "<div>\n<style scoped>\n    .dataframe tbody tr th:only-of-type {\n        vertical-align: middle;\n    }\n\n    .dataframe tbody tr th {\n        vertical-align: top;\n    }\n\n    .dataframe thead th {\n        text-align: right;\n    }\n</style>\n<table border=\"1\" class=\"dataframe\">\n  <thead>\n    <tr style=\"text-align: right;\">\n      <th>Truth</th>\n      <th>Down</th>\n      <th>Up</th>\n    </tr>\n    <tr>\n      <th>Predicted</th>\n      <th></th>\n      <th></th>\n    </tr>\n  </thead>\n  <tbody>\n    <tr>\n      <th>Down</th>\n      <td>145</td>\n      <td>141</td>\n    </tr>\n    <tr>\n      <th>Up</th>\n      <td>457</td>\n      <td>507</td>\n    </tr>\n  </tbody>\n</table>\n</div>",
      "text/plain": "Truth      Down   Up\nPredicted           \nDown        145  141\nUp          457  507"
     },
     "execution_count": 12,
     "metadata": {},
     "output_type": "execute_result"
    }
   ],
   "source": [
    "# confusion matrix\n",
    "confusion_table(labels, Smarket.Direction)"
   ]
  },
  {
   "cell_type": "code",
   "execution_count": 13,
   "metadata": {},
   "outputs": [
    {
     "data": {
      "text/plain": "(0.5216, 0.5216)"
     },
     "execution_count": 13,
     "metadata": {},
     "output_type": "execute_result"
    }
   ],
   "source": [
    "(507+145)/1250, np.mean(labels == Smarket.Direction) # fraction of days for which predication correct"
   ]
  },
  {
   "cell_type": "code",
   "execution_count": 15,
   "metadata": {},
   "outputs": [
    {
     "data": {
      "text/plain": "(252, 9)"
     },
     "execution_count": 15,
     "metadata": {},
     "output_type": "execute_result"
    }
   ],
   "source": [
    "# to better see how these models perform, data splitting\n",
    "train = (Smarket.Year < 2005)\n",
    "Smarket_train = Smarket.loc[train]\n",
    "Smarket_test = Smarket.loc[~train]\n",
    "Smarket_test.shape"
   ]
  },
  {
   "cell_type": "code",
   "execution_count": 16,
   "metadata": {},
   "outputs": [
    {
     "data": {
      "text/plain": "0        True\n1        True\n2        True\n3        True\n4        True\n        ...  \n1245    False\n1246    False\n1247    False\n1248    False\n1249    False\nName: Year, Length: 1250, dtype: bool"
     },
     "execution_count": 16,
     "metadata": {},
     "output_type": "execute_result"
    }
   ],
   "source": [
    "train"
   ]
  },
  {
   "cell_type": "code",
   "execution_count": null,
   "metadata": {},
   "outputs": [],
   "source": [
    "# fit logistic regression using only subset of observations that correspond to dates before 2005\n",
    "X_train, "
   ]
  }
 ],
 "metadata": {
  "kernelspec": {
   "display_name": "Python 3.9.5 64-bit",
   "name": "python395jvsc74a57bd0aee8b7b246df8f9039afb4144a1f6fd8d2ca17a180786b69acc140d282b71a49"
  },
  "language_info": {
   "codemirror_mode": {
    "name": "ipython",
    "version": 3
   },
   "file_extension": ".py",
   "mimetype": "text/x-python",
   "name": "python",
   "nbconvert_exporter": "python",
   "pygments_lexer": "ipython3",
   "version": "3.9.5"
  },
  "metadata": {
   "interpreter": {
    "hash": "aee8b7b246df8f9039afb4144a1f6fd8d2ca17a180786b69acc140d282b71a49"
   }
  },
  "orig_nbformat": 2
 },
 "nbformat": 4,
 "nbformat_minor": 2
}